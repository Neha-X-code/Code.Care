{
  "cells": [
    {
      "cell_type": "markdown",
      "metadata": {
        "id": "view-in-github",
        "colab_type": "text"
      },
      "source": [
        "<a href=\"https://colab.research.google.com/github/Neha-X-code/Code.Care/blob/main/code_care.ipynb\" target=\"_parent\"><img src=\"https://colab.research.google.com/assets/colab-badge.svg\" alt=\"Open In Colab\"/></a>"
      ]
    },
    {
      "cell_type": "code",
      "execution_count": null,
      "metadata": {
        "id": "WXa7tYyIas1A"
      },
      "outputs": [],
      "source": [
        "import numpy as np\n",
        "import pandas as pd\n",
        "import re\n",
        "from nltk.corpus import stopwords\n",
        "from nltk.stem.porter import PorterStemmer\n",
        "from sklearn.feature_extraction.text import TfidfVectorizer\n",
        "from sklearn.model_selection import train_test_split\n",
        "from sklearn.linear_model import LogisticRegression\n",
        "from sklearn.metrics import accuracy_score"
      ]
    },
    {
      "cell_type": "code",
      "execution_count": null,
      "metadata": {
        "colab": {
          "base_uri": "https://localhost:8080/"
        },
        "id": "maIRIgIIcE0H",
        "outputId": "766a8fe6-4a41-4a64-8a98-4ffe8adaa204"
      },
      "outputs": [
        {
          "output_type": "stream",
          "name": "stderr",
          "text": [
            "[nltk_data] Downloading package stopwords to /root/nltk_data...\n",
            "[nltk_data]   Package stopwords is already up-to-date!\n"
          ]
        },
        {
          "output_type": "execute_result",
          "data": {
            "text/plain": [
              "True"
            ]
          },
          "metadata": {},
          "execution_count": 33
        }
      ],
      "source": [
        "import nltk\n",
        "nltk.download('stopwords')"
      ]
    },
    {
      "cell_type": "code",
      "execution_count": null,
      "metadata": {
        "colab": {
          "base_uri": "https://localhost:8080/"
        },
        "id": "XlMHNO7vcKe3",
        "outputId": "451bc391-c5fb-4750-9c10-65d25512da9c"
      },
      "outputs": [
        {
          "output_type": "stream",
          "name": "stdout",
          "text": [
            "['i', 'me', 'my', 'myself', 'we', 'our', 'ours', 'ourselves', 'you', \"you're\", \"you've\", \"you'll\", \"you'd\", 'your', 'yours', 'yourself', 'yourselves', 'he', 'him', 'his', 'himself', 'she', \"she's\", 'her', 'hers', 'herself', 'it', \"it's\", 'its', 'itself', 'they', 'them', 'their', 'theirs', 'themselves', 'what', 'which', 'who', 'whom', 'this', 'that', \"that'll\", 'these', 'those', 'am', 'is', 'are', 'was', 'were', 'be', 'been', 'being', 'have', 'has', 'had', 'having', 'do', 'does', 'did', 'doing', 'a', 'an', 'the', 'and', 'but', 'if', 'or', 'because', 'as', 'until', 'while', 'of', 'at', 'by', 'for', 'with', 'about', 'against', 'between', 'into', 'through', 'during', 'before', 'after', 'above', 'below', 'to', 'from', 'up', 'down', 'in', 'out', 'on', 'off', 'over', 'under', 'again', 'further', 'then', 'once', 'here', 'there', 'when', 'where', 'why', 'how', 'all', 'any', 'both', 'each', 'few', 'more', 'most', 'other', 'some', 'such', 'no', 'nor', 'not', 'only', 'own', 'same', 'so', 'than', 'too', 'very', 's', 't', 'can', 'will', 'just', 'don', \"don't\", 'should', \"should've\", 'now', 'd', 'll', 'm', 'o', 're', 've', 'y', 'ain', 'aren', \"aren't\", 'couldn', \"couldn't\", 'didn', \"didn't\", 'doesn', \"doesn't\", 'hadn', \"hadn't\", 'hasn', \"hasn't\", 'haven', \"haven't\", 'isn', \"isn't\", 'ma', 'mightn', \"mightn't\", 'mustn', \"mustn't\", 'needn', \"needn't\", 'shan', \"shan't\", 'shouldn', \"shouldn't\", 'wasn', \"wasn't\", 'weren', \"weren't\", 'won', \"won't\", 'wouldn', \"wouldn't\"]\n"
          ]
        }
      ],
      "source": [
        "# printing the stopwords in English\n",
        "print(stopwords.words('english'))"
      ]
    },
    {
      "cell_type": "code",
      "source": [
        "# loading the dataset to a pandas DataFrame\n",
        "true_dataset = pd.read_csv('/content/true.csv')\n",
        "fake_dataset = pd.read_csv('/content/fake.csv')"
      ],
      "metadata": {
        "id": "ep0qX0bMfxiR"
      },
      "execution_count": null,
      "outputs": []
    },
    {
      "cell_type": "code",
      "source": [
        "true_content = true_dataset['Title'] + ' ' + true_dataset['Content']\n",
        "fake_content = fake_dataset['Title'] + ' ' + fake_dataset['Content']"
      ],
      "metadata": {
        "id": "LgiXvEvcfzq2"
      },
      "execution_count": null,
      "outputs": []
    },
    {
      "cell_type": "code",
      "source": [
        "# Creating the merged dataset\n",
        "news_dataset = pd.DataFrame({\n",
        "    'content': pd.concat([true_content, fake_content], ignore_index=True),\n",
        "    'label': [1] * len(true_content) + [0] * len(fake_content)\n",
        "})"
      ],
      "metadata": {
        "id": "uqVa0s6jf2qG"
      },
      "execution_count": null,
      "outputs": []
    },
    {
      "cell_type": "code",
      "source": [
        "news_dataset.shape"
      ],
      "metadata": {
        "colab": {
          "base_uri": "https://localhost:8080/"
        },
        "id": "ps31IeOuf408",
        "outputId": "f6b96e9b-3b9b-4dfc-f500-25bcc486ebad"
      },
      "execution_count": null,
      "outputs": [
        {
          "output_type": "execute_result",
          "data": {
            "text/plain": [
              "(10254, 2)"
            ]
          },
          "metadata": {},
          "execution_count": 38
        }
      ]
    },
    {
      "cell_type": "code",
      "source": [
        "# print the first 5 rows of the dataframe\n",
        "news_dataset.head()"
      ],
      "metadata": {
        "colab": {
          "base_uri": "https://localhost:8080/",
          "height": 206
        },
        "id": "RGkN_c9Bf7B2",
        "outputId": "9dfad1bc-1b83-473d-86ad-68f405da4856"
      },
      "execution_count": null,
      "outputs": [
        {
          "output_type": "execute_result",
          "data": {
            "text/plain": [
              "                                             content  label\n",
              "0  Geriatrician and author louise aronson you can...      1\n",
              "1  White house hopes to sign reg-reform before st...      1\n",
              "2  Coronavirus hasn't stopped groups from gatheri...      1\n",
              "3  Cantor seeking deal on dod cuts. . . report: d...      1\n",
              "4  Mamata to hold review meeting on healthcare ev...      1"
            ],
            "text/html": [
              "\n",
              "  <div id=\"df-f512c2a1-a955-488f-adce-8cbe39b3e5e7\">\n",
              "    <div class=\"colab-df-container\">\n",
              "      <div>\n",
              "<style scoped>\n",
              "    .dataframe tbody tr th:only-of-type {\n",
              "        vertical-align: middle;\n",
              "    }\n",
              "\n",
              "    .dataframe tbody tr th {\n",
              "        vertical-align: top;\n",
              "    }\n",
              "\n",
              "    .dataframe thead th {\n",
              "        text-align: right;\n",
              "    }\n",
              "</style>\n",
              "<table border=\"1\" class=\"dataframe\">\n",
              "  <thead>\n",
              "    <tr style=\"text-align: right;\">\n",
              "      <th></th>\n",
              "      <th>content</th>\n",
              "      <th>label</th>\n",
              "    </tr>\n",
              "  </thead>\n",
              "  <tbody>\n",
              "    <tr>\n",
              "      <th>0</th>\n",
              "      <td>Geriatrician and author louise aronson you can...</td>\n",
              "      <td>1</td>\n",
              "    </tr>\n",
              "    <tr>\n",
              "      <th>1</th>\n",
              "      <td>White house hopes to sign reg-reform before st...</td>\n",
              "      <td>1</td>\n",
              "    </tr>\n",
              "    <tr>\n",
              "      <th>2</th>\n",
              "      <td>Coronavirus hasn't stopped groups from gatheri...</td>\n",
              "      <td>1</td>\n",
              "    </tr>\n",
              "    <tr>\n",
              "      <th>3</th>\n",
              "      <td>Cantor seeking deal on dod cuts. . . report: d...</td>\n",
              "      <td>1</td>\n",
              "    </tr>\n",
              "    <tr>\n",
              "      <th>4</th>\n",
              "      <td>Mamata to hold review meeting on healthcare ev...</td>\n",
              "      <td>1</td>\n",
              "    </tr>\n",
              "  </tbody>\n",
              "</table>\n",
              "</div>\n",
              "      <button class=\"colab-df-convert\" onclick=\"convertToInteractive('df-f512c2a1-a955-488f-adce-8cbe39b3e5e7')\"\n",
              "              title=\"Convert this dataframe to an interactive table.\"\n",
              "              style=\"display:none;\">\n",
              "        \n",
              "  <svg xmlns=\"http://www.w3.org/2000/svg\" height=\"24px\"viewBox=\"0 0 24 24\"\n",
              "       width=\"24px\">\n",
              "    <path d=\"M0 0h24v24H0V0z\" fill=\"none\"/>\n",
              "    <path d=\"M18.56 5.44l.94 2.06.94-2.06 2.06-.94-2.06-.94-.94-2.06-.94 2.06-2.06.94zm-11 1L8.5 8.5l.94-2.06 2.06-.94-2.06-.94L8.5 2.5l-.94 2.06-2.06.94zm10 10l.94 2.06.94-2.06 2.06-.94-2.06-.94-.94-2.06-.94 2.06-2.06.94z\"/><path d=\"M17.41 7.96l-1.37-1.37c-.4-.4-.92-.59-1.43-.59-.52 0-1.04.2-1.43.59L10.3 9.45l-7.72 7.72c-.78.78-.78 2.05 0 2.83L4 21.41c.39.39.9.59 1.41.59.51 0 1.02-.2 1.41-.59l7.78-7.78 2.81-2.81c.8-.78.8-2.07 0-2.86zM5.41 20L4 18.59l7.72-7.72 1.47 1.35L5.41 20z\"/>\n",
              "  </svg>\n",
              "      </button>\n",
              "      \n",
              "  <style>\n",
              "    .colab-df-container {\n",
              "      display:flex;\n",
              "      flex-wrap:wrap;\n",
              "      gap: 12px;\n",
              "    }\n",
              "\n",
              "    .colab-df-convert {\n",
              "      background-color: #E8F0FE;\n",
              "      border: none;\n",
              "      border-radius: 50%;\n",
              "      cursor: pointer;\n",
              "      display: none;\n",
              "      fill: #1967D2;\n",
              "      height: 32px;\n",
              "      padding: 0 0 0 0;\n",
              "      width: 32px;\n",
              "    }\n",
              "\n",
              "    .colab-df-convert:hover {\n",
              "      background-color: #E2EBFA;\n",
              "      box-shadow: 0px 1px 2px rgba(60, 64, 67, 0.3), 0px 1px 3px 1px rgba(60, 64, 67, 0.15);\n",
              "      fill: #174EA6;\n",
              "    }\n",
              "\n",
              "    [theme=dark] .colab-df-convert {\n",
              "      background-color: #3B4455;\n",
              "      fill: #D2E3FC;\n",
              "    }\n",
              "\n",
              "    [theme=dark] .colab-df-convert:hover {\n",
              "      background-color: #434B5C;\n",
              "      box-shadow: 0px 1px 3px 1px rgba(0, 0, 0, 0.15);\n",
              "      filter: drop-shadow(0px 1px 2px rgba(0, 0, 0, 0.3));\n",
              "      fill: #FFFFFF;\n",
              "    }\n",
              "  </style>\n",
              "\n",
              "      <script>\n",
              "        const buttonEl =\n",
              "          document.querySelector('#df-f512c2a1-a955-488f-adce-8cbe39b3e5e7 button.colab-df-convert');\n",
              "        buttonEl.style.display =\n",
              "          google.colab.kernel.accessAllowed ? 'block' : 'none';\n",
              "\n",
              "        async function convertToInteractive(key) {\n",
              "          const element = document.querySelector('#df-f512c2a1-a955-488f-adce-8cbe39b3e5e7');\n",
              "          const dataTable =\n",
              "            await google.colab.kernel.invokeFunction('convertToInteractive',\n",
              "                                                     [key], {});\n",
              "          if (!dataTable) return;\n",
              "\n",
              "          const docLinkHtml = 'Like what you see? Visit the ' +\n",
              "            '<a target=\"_blank\" href=https://colab.research.google.com/notebooks/data_table.ipynb>data table notebook</a>'\n",
              "            + ' to learn more about interactive tables.';\n",
              "          element.innerHTML = '';\n",
              "          dataTable['output_type'] = 'display_data';\n",
              "          await google.colab.output.renderOutput(dataTable, element);\n",
              "          const docLink = document.createElement('div');\n",
              "          docLink.innerHTML = docLinkHtml;\n",
              "          element.appendChild(docLink);\n",
              "        }\n",
              "      </script>\n",
              "    </div>\n",
              "  </div>\n",
              "  "
            ]
          },
          "metadata": {},
          "execution_count": 39
        }
      ]
    },
    {
      "cell_type": "code",
      "source": [
        "# counting the number of missing values in the dataset\n",
        "news_dataset.isnull().sum()"
      ],
      "metadata": {
        "colab": {
          "base_uri": "https://localhost:8080/"
        },
        "id": "NpDQrsI_f9yF",
        "outputId": "83352bb7-d47c-48d2-bd68-8a30b04fce48"
      },
      "execution_count": null,
      "outputs": [
        {
          "output_type": "execute_result",
          "data": {
            "text/plain": [
              "content    75\n",
              "label       0\n",
              "dtype: int64"
            ]
          },
          "metadata": {},
          "execution_count": 40
        }
      ]
    },
    {
      "cell_type": "code",
      "source": [
        "# replacing the null values with empty string\n",
        "news_dataset = news_dataset.fillna('')"
      ],
      "metadata": {
        "id": "CM_e0hSagAYU"
      },
      "execution_count": null,
      "outputs": []
    },
    {
      "cell_type": "code",
      "source": [
        "# separating the data & label\n",
        "X = news_dataset.drop(columns='label', axis=1)\n",
        "Y = news_dataset['label']"
      ],
      "metadata": {
        "id": "hHnFvpylgDa-"
      },
      "execution_count": null,
      "outputs": []
    },
    {
      "cell_type": "code",
      "source": [
        "print(X)\n",
        "print(Y)"
      ],
      "metadata": {
        "colab": {
          "base_uri": "https://localhost:8080/"
        },
        "id": "m0ETWlz4gFI3",
        "outputId": "acd44866-e6bd-4b48-dfd8-fc2421f91671"
      },
      "execution_count": null,
      "outputs": [
        {
          "output_type": "stream",
          "name": "stdout",
          "text": [
            "                                                 content\n",
            "0      Geriatrician and author louise aronson you can...\n",
            "1      White house hopes to sign reg-reform before st...\n",
            "2      Coronavirus hasn't stopped groups from gatheri...\n",
            "3      Cantor seeking deal on dod cuts. . . report: d...\n",
            "4      Mamata to hold review meeting on healthcare ev...\n",
            "...                                                  ...\n",
            "10249  Jewish cnn claims covid-19 will surge among un...\n",
            "10250  Covid news: pfizer and biontech are developing...\n",
            "10251  End-life crisis marked by extravagant spending...\n",
            "10252  More people are registering republican than de...\n",
            "10253  Excited patient points out organ he wants from...\n",
            "\n",
            "[10254 rows x 1 columns]\n",
            "0        1\n",
            "1        1\n",
            "2        1\n",
            "3        1\n",
            "4        1\n",
            "        ..\n",
            "10249    0\n",
            "10250    0\n",
            "10251    0\n",
            "10252    0\n",
            "10253    0\n",
            "Name: label, Length: 10254, dtype: int64\n"
          ]
        }
      ]
    },
    {
      "cell_type": "code",
      "source": [
        "port_stem = PorterStemmer()"
      ],
      "metadata": {
        "id": "QH92smnzgIHs"
      },
      "execution_count": null,
      "outputs": []
    },
    {
      "cell_type": "code",
      "source": [
        "def stemming(content):\n",
        "    stemmed_content = re.sub('[^a-zA-Z]',' ',content)\n",
        "    stemmed_content = stemmed_content.lower()\n",
        "    stemmed_content = stemmed_content.split()\n",
        "    stemmed_content = [port_stem.stem(word) for word in stemmed_content if not word in stopwords.words('english')]\n",
        "    stemmed_content = ' '.join(stemmed_content)\n",
        "    return stemmed_content"
      ],
      "metadata": {
        "id": "lr4xjoZLgK_j"
      },
      "execution_count": null,
      "outputs": []
    },
    {
      "cell_type": "code",
      "source": [
        "news_dataset['content'].head(500).apply(stemming)"
      ],
      "metadata": {
        "colab": {
          "base_uri": "https://localhost:8080/"
        },
        "id": "t5BxjB2MgOcT",
        "outputId": "e0855290-36db-4e86-f58f-6fc7d1418a90"
      },
      "execution_count": null,
      "outputs": [
        {
          "output_type": "execute_result",
          "data": {
            "text/plain": [
              "0      geriatrician author louis aronson heal import ...\n",
              "1      white hous hope sign reg reform state union en...\n",
              "2      coronaviru stop group gather led grim consequ ...\n",
              "3      cantor seek deal dod cut report dod review sen...\n",
              "4      mamata hold review meet healthcar everi day we...\n",
              "                             ...                        \n",
              "495    everyon need mediterranean dish eid al fitr ce...\n",
              "496    india may rais vaccin spend billion fiscal yea...\n",
              "497    india hurri teacher vaccin physic class resum ...\n",
              "498    cash shortag threaten white hous global vaccin...\n",
              "499    search consult associ hire new chief archambea...\n",
              "Name: content, Length: 500, dtype: object"
            ]
          },
          "metadata": {},
          "execution_count": 46
        }
      ]
    },
    {
      "cell_type": "code",
      "source": [
        "print(news_dataset['content'])"
      ],
      "metadata": {
        "colab": {
          "base_uri": "https://localhost:8080/"
        },
        "id": "0VOI-gLEgaWv",
        "outputId": "15ae7e15-7f25-4c5b-cd6e-8605d1f27fcd"
      },
      "execution_count": null,
      "outputs": [
        {
          "output_type": "stream",
          "name": "stdout",
          "text": [
            "0        Geriatrician and author louise aronson you can...\n",
            "1        White house hopes to sign reg-reform before st...\n",
            "2        Coronavirus hasn't stopped groups from gatheri...\n",
            "3        Cantor seeking deal on dod cuts. . . report: d...\n",
            "4        Mamata to hold review meeting on healthcare ev...\n",
            "                               ...                        \n",
            "10249    Jewish cnn claims covid-19 will surge among un...\n",
            "10250    Covid news: pfizer and biontech are developing...\n",
            "10251    End-life crisis marked by extravagant spending...\n",
            "10252    More people are registering republican than de...\n",
            "10253    Excited patient points out organ he wants from...\n",
            "Name: content, Length: 10254, dtype: object\n"
          ]
        }
      ]
    },
    {
      "cell_type": "code",
      "source": [
        "#separating the data and label\n",
        "X = news_dataset['content'].values\n",
        "Y = news_dataset['label'].values"
      ],
      "metadata": {
        "id": "92OiHJ6BgeIB"
      },
      "execution_count": null,
      "outputs": []
    },
    {
      "cell_type": "code",
      "source": [
        "print(X)"
      ],
      "metadata": {
        "colab": {
          "base_uri": "https://localhost:8080/"
        },
        "id": "3OxqmgjYgf0h",
        "outputId": "07135a8a-4d38-455c-a525-01982cf6a747"
      },
      "execution_count": null,
      "outputs": [
        {
          "output_type": "stream",
          "name": "stdout",
          "text": [
            "['Geriatrician and author louise aronson you can’t heal, you can’t have an important therapeutic relationship in 10 minutes. So they are setting up patients for bad care and clinicians to burn out. Most people enter medicine to take good care of patients. The level of moral distress is overwhelming if you can’t do that. I have done this crazy thing where i have a less than full time job that allows me to schedule extra time so i can pay attention to my patients in the office and later write a good note. Otherwise i would have had to stop seeing patients. For a long time i wrote two notes in one  one for billing, one with important clinical information. It was insanity. Now it’s a bit better. I do only one note, but it still has a lot of irrelevant information and it takes a lot of time. I can see another provider’s note, which is great … sometimes. Yesterday i saw a neurosurgical consult from a patient with a new brain lesion. In the free text, it listed a variety of signs and important findings the patient had reported. Then the review of systems and physical  which epic calls “smart text” and i call “robo-text”  said the exact opposite. The shortcuts lead to colossal misinformation. It’s fascinating! efficiency has gone down, the doctor-patient relationship eroded, records are full of bad information, and the doctors know it, the health systems know it, epic knows it, yet people keep adopting these systems. With the actions they take and where they put the money, health system leaders absolutely are saying the doctor-patient relationship is of low value, that the mental health of providers is of low value. What improvements have you seen in ehrs since they were brought in, and what could be done to make them better tools for treating older people?already some of the modifications make life better. In epic there are horizontal four- to seven-layer menus and a few vertical menus, and within those menus were more drop-down menus and sometimes sub-menus in the drop-down menus. Now you can make your own screen so the things you don’t use regularly can go away. But it takes time to do that and understand it, so it’s biased in favor of people who love the tech stuff. I’m a geriatrician -- why do i need a child growth chart? we have had to fight and fight and fight to get the right information into the chart and instead of a national approach to these problems, each health system is dealing with them on their own. How is geriatrics doing as a specialty? the pay is far lower than many other fields. Geriatricians do primary care but we’re also in homes, hospitals, nursing homes and do end-of-life care. It has a great range and that has worked in our favor. Reports are it’s holding steady, or maybe in the last couple years showing an uptick. There is now so much more information about aging than there was. When i started, you’d see one or two articles a year in the newspapers. Now i have trouble keeping up on a daily basis. Some of the most interesting science in medicine is related to aging. And prevention  instead of just watching people get sick and then coming in with expensive measures to help them, there’s all this good evidence for helping you delay disease or frailty. And that interests people … the potential for creativity in aging and a redefinition of geriatrics is huge. You’re a 5th generation san franciscan. Are your patients facing additional pressures these days because of the tremendous expense of housing?there’s a woman named eva in the book who had made 30 visits to our medical center in the past year, but an important underlying problem was isolation. She’s living up a long set of stairs in the hills, but where is she going to go? she lives in a rent-controlled apartment. You see populations being edged out. The number of older homeless people is just going up and up and up. The homeless aren’t all mentally ill or drug users as the media often portrays. A lot of them just can’t afford a home anymore. Which is crazy. You’re pretty scathing on ehrs in this book, but surprisingly open to the idea of robot caregivers. My first reaction to hearing about them, i was in a meeting, and i started mechanically tapping on a colleague’s shoulder and saying, “it-ees-o-k--it-ees-o-k. ” if i am seeing a patient who is living alone and hasn’t seen anyone in a month i often feel that touching them is the most important thing i can do, which is tragic. Robots shouldn’t be an excuse to abdicate care. But if a robot can do things  like lifting people into beds  that risk hurting caregivers, and thereby give the humans more time for social interaction, that would be really good. When my father needed help to go to the toilet he told me, “now i’m officially an old man. ” that was a good insight. If you could tell your robot to take you to the toilet and didn’t have to feel shamed in front of an adult child, that would be awesome. You’ve met your share of bay area techies?yes, there is a huge market to placate the worried adult children, who have a lot of power but different priorities from parents. The elderly, like their children, want independence, enjoyment out of life, control, but their adult kids often are driven by concerns of safety and it can get a bit big brother-ish. We had a guy come in, maybe about 30, who was talking about developing sensors for incontinence. He starts out saying, “when people are over 50 they have these needs. ” i’m sitting between two guys about my age. I was like, “are you guys wearing your pads?” the idea that 50 is the same as 70 or 90 or 110 was just so funny. Dude, you gotta work on your presentation here! you can’t make assumptions about where someone’s going to be when they are 50 or 70. The phrase “70 is the new 50” suggests that 70 is bad. In fact, the data shows people are happier, less stressed when they are 70. If people knew that truth, they wouldn’t be so scared of elderhood! this story was written with the support of a journalism fellowship from the gerontological society of america, journalists network on generations, and the silver century foundation'\n",
            " 'White house hopes to sign reg-reform before state of union, energy in q1 of \\'10 -- obama raises $ in manhattan today -- world stocks hit 12-month high this a. m. -- sorkin book out and whose bankers raised millions of dollars for mr. Obama’s election  only a half-dozen or fewer are expected to attend. Part of the reason, several democratic fund-raisers and executives said, is a fear of getting caught in the public rage. ” treasury today: ken feinberg, treasury\\'s point-man on executive compensation, speaks at 11 a. m. to the national association of corporate directors 2009 corporate governance conference at the omni shoreham hotel, 2500 calvert street. More on the conference here: washpost reports feinberg, assigned to set pay for top executives at seven banks receiving the most federal help, \"plans to curtail perks such as country club fees when he rules on compensation later this month, according to people familiar with the matter. Perks worth more than $25,000 are getting particular scrutiny from feinberg. \" --treasurer rosie rios speaks at 12:30 at the national association of investment companies 39th annual meeting and convention at the fairmont washington, 2401 m street. Front page image, today’s print politico top click: nyt runs excerpts from andrew ross sorkin’s “ too big to fail: how wall street and washington fought to save the financial system  and themselves,” out today from viking. Your friends can sign up for morning money house financial services takes up regulatory reform again this afternoon, hoping to get approval of the consumer protection financial agency. Politico’s victoria mcgrane: “consumer groups so far aren’t sounding so thrilled with many of the changes democrats are making to the consumer financial protection agency bill, which enters its third – and possibly final – day of consideration by the house financial services committee. And if consumer groups aren\\'t buying, the white house\\'s most prized piece of financial reform could take some serious press hits despite all the losses wall street has suffered at the hands of committee democrats so far. The consumer groups dislike an amendment by reps. Mel watt  that seems headed for victory; the amendment would weaken language in the cfpa bill empowering states to hit national banks with tougher consumer rules than the feds put in place. “they’re slamming an amendment by california republican john campbell that would carve out auto financing by car dealers. Democrats will also earn the ire of consumer groups if they support an amendment by rep. Gwen moore  that would exempt all credit unions from oversight by the new agency. Given these fights and the piles of other amendments awaiting the hfsc when they resume work at 2 p. m. , we have our doubts even the fast-talking chairman barney frank can plow through to the cfpa finish line before wednesday morning. ” timing troubles -- roll call\\'s emily pierce: \"[f]or all practical purposes, there are only about eight workweeks left in 2009 for the majority to pass sweeping health care reform, fund the federal government for the next year and throw the still sluggish economy a bone. The tight timeline makes it next to impossible to get climate change legislation or banking regulatory reform to the senate floor, but the house still hopes to do a financial regulatory reform bill and already passed its global warming measure this summer. \"  but is there a bigger problem? the hill\\'s jared allen and silda brush say moderate blue dog dems \"have been largely silent on financial regulatory reform as house leaders advance one of president barack obama’s highest priorities. … blue dog co-chairman baron hill  said last week the group has barely paid attention to financial reform. … ‘it’s been completely swallowed by healthcare. ’ rep. Walt minnick , a freshman blue dog, has criticized setting up an entire new regulatory agency over consumer financial protection. ” senate banking, from mcgrane: “dodd\\'s senate banking, housing and urban affairs committee is holding a hearing on the housing market at 9:30 a. m. Georgia republican sen. Johnny isakson is the first witness, and he\\'ll tout legislation he and dodd are sponsoring to extend the first-time homebuyers tax credit for six months and expand it to all homebuyers, at a cost of close to $17 billion. Industry witnesses will also push for an extension. Shaun donovan, housing urban development secretary, will also testify. ” cnbc today -- exclusive with roger ferguson, tiaa-cref president & ceo, \"closing bell with maria bartiromo,” 4 p. m. Bloomberg television today -- 10:30 a. m. : john hattenberger, pres of gazprom marketing & trading usa inc … 10:45 a. m. : chuck collins, co-founder of wealth for common good, an heir to the oscar mayer fortune who has worked with bill gates sr. and george soros to promote tax equity. … 11:42 a. m. : bartle bull, partner of north gulf partners, about opportunities and challenges of investing in iraq. … 4:52 p. m. : john furlong, ceo of vancouver organizing committee vancouver 2010 winter olympics. This week the olympic flame gets lit as the countdown nears for the vancouver olympic winter games. Global markets -- reuters/london, 5:02 a. m. : \"world stocks hit a new 12-month high on tuesday, powered by strong results from apple inc and texas instruments and helping to push the dollar to a new 14-month low against a basket of currencies. The strength in global stocks, up 75 percent from crisis lows, boosted optimism on corporate earnings and the global recovery, encouraging traders to sell dollars for higher-yielding currencies. Crude and gold prices meanwhile eased from their earlier highs, while safe-haven government bonds were largely steady. The msci all-country world index was up 0. 2 percent at 300. 00 points, after hitting 300. 77 -- its highest level since late september 2008. … in asia, japan\\'s nikkei gained 1 percent. \" fedwatch -- reuters: “the federal reserve bank of new york said on monday that it is testing one of its tools for withdrawing cash from the banking system, but stressed this should not be taken to mean that it is about to use it. The federal reserve -- the u. S. central bank -- has said that so-called \"reverse repos\" could be one way to drain excess reserves when the time comes to reverse the massive cash injections it has made into the banking system. \\'this work is a matter of prudent advance planning by the federal reserve, and no inference should be drawn about the timing of monetary policy tightening,\\' the new york fed -- the u. S. central bank\\'s operational arm -- said in a statement. ” full fed statement blessing bank of america? washpost\\'s zachary goldfarb: \"[t]op economic advisers to president obama signed off on a deal to protect bank of america from losses incurred by its purchase of failed wall street firm merrill lynch a month before the new administration took office, according to bank of america documents. The documents, describing internal discussions at the bank in late 2008, assert that executives were told that incoming national economic council director lawrence h. Summers and incoming treasury secretary timothy f. Geithner had endorsed the deal to provide new guarantees to bank of america. ” the house committee on oversight and government reform will hoard another hearing on the deal on thursday when the new bofa documents are to be discussed. The hill\\'s silla bush says committee lawmakers are looking into the role of now-treasury secretary timothy geithner and lawrence summers … according to a december document obtained by the hill, bank executives believed that geithner and summers agreed to the deal with federal officials at the treasury department and federal reserve. The document includes talking points for a conversation between the bank’s ceo, kenneth lewis, and the firm’s board. \" raj watch: hedge fund giant galleon group began to dump technology stocks on monday as investors hustled to pull around $1. 3-billion out of their accounts, the wsj reports. According to the wsj, galleon founder raj rajaratnam, accused of leading a massive insider trading scheme, told employees at the firm monday that he \"did nothing wrong. \" the journal also says at least two banks that dealt with galleon, bank of america merrill lynch and barclays, said they would no longer trade with the firm. Bloomberg reports the us plans to charge \"at least 10\" securities professionals with insider trading, some of them linked to the galleon case. \"the pending crackdown, more than two years in the making and among the biggest undercover operations into insider trading, may yield charges against hedge-fund managers and their associates as early as this week, the people said, declining to be identified because the cases aren’t public. Authorities had planned to arrest rajaratnam this week as part of a broader sweep, expediting it after learning he had bought a plane ticket to travel to london on oct. 16, one person said. \" ft reports some big hedge fund investors \"had for years harboured concerns\" about galleon. \"inconsistencies and red flags over the \\'source of alpha\\' – industry parlance for market-beating profits – were noted in reports commissioned by several large investors. Each passed up the opportunity to invest in galleon as a result, in spite of the fund’s reputation and stellar record. Speed read: --washpost, “at rescued banks, perks keep rolling: bosses benefit after bailout fringe compensation rose 4 percent last year,” by tomoeh murakami tse, in new york: “even as the nation\\'s biggest financial firms were struggling and the federal government was spending hundreds of billions of dollars to save many of them, the companies as a group were boosting the perks and benefits they pay their chief executives. The firms, accounting for more $350 billion in federal bailout funds, increased these perks and benefits 4 percent on average last year, according to an analysis of corporate disclosures filed in recent months. ” --wsj: \"companies across the economy are holding off on hiring even as the profit outlook improves, amid economic uncertainty and their own success at raising productivity in rough waters. Hiring always lags behind in economic recoveries, but the outlook this time is worse, many economists say. Most forecasters now expect a prolonged period of high unemployment, even though the government is expected to report next week that the economy grew in the third quarter, after four quarters of contraction. That is sure to frustrate the jobless and could be a problem for the obama administration. ” overheard -- ft\\'s chief business commentator and general man about town john gapper went to listen to david einhorn, hedge fund manager famous for betting against lehman brother\\'s just before the bank\\'s collapse, and came away with this tasty tidbit about an apparent secret trove of gold in midtown: \"mr. Einhorn talked about his reasoning for buying gold as a hedge against future inflation, and went into the reasons to be wary not only of the dollar but of currencies including the yen and sterling. Making a choice among them was like choosing between different forms of dental treatment, he said. “the most intriguing moment came when he was asked where he stored the physical gold that his hedge fund greenlight capital has amassed. The questioner asked whether the metal was kept in london, since the us government has in the past tried to limit gold speculation in times of economic distress. No, said mr. Einhorn, his gold was being stored ‘close to here. ’ he was speaking at a hotel in times square and greenlight’s head office is on 45th street in manhattan. \" ** the financial services forum is a non-partisan financial and economic policy organization comprised of the ceos of 18 of the largest and most diversified financial services institutions doing business in the united states. The purpose of the forum is to pursue policies that encourage savings and investment, promote an open and competitive global marketplace, and ensure the opportunity of people everywhere to participate fully and productively in the 21st century global economy. To retain its global leadership position, the united states needs a 21st century supervisory framework that ensures safety and soundness; meets the financial needs of american businesses, workers, savers, and investors; ensures that consumers\\' and investors\\' interests are protected; and is efficient, flexible, and responsive to the activities, innovations, and risks of the world’s most sophisticated and dynamic capital marketplace. Learn more at www. financialservicesforum. org and follow the forum on twitter:  '\n",
            " 'Coronavirus hasn\\'t stopped groups from gathering, but it has led to grim consequences Mers and sars. It has also been used to treat flu and ebola. The agency said it concluded that it may be effective in treating covid-19 and that \"the known and potential benefits of the product outweigh the known and potential risks of the product. \" \"at the same time, we will continue to work with researchers to continue randomized clinical trials to study the safety and effectiveness of convalescent plasma in treating patients infected with the novel coronavirus,\" fda commissioner dr. Stephen hahn said in a statement. President donald trump said during a briefing sunday the emergency use authorization of convalescent plasma to treat covid-19 patients will \"save countless lives. \" \"today\\'s action will dramatically increase access to this treatment,\" trump said. Patients who were treated with convalescent plasma that contained high levels of antibodies within three days of their diagnoses benefited the most from treatment, health and human services secretary alex azar said during the briefing. \"we dream in drug development of something like a 35% mortality reduction. This is a major advance in the treatment of patients,\" azar said. Emergency use authorization from the fda does not require the same level of evidence as full fda approval. At the end of march, the fda created a pathway for scientists to try convalescent plasma with patients and study its impact. Physicians have been using the treatment since. So far, more than 60,000 people in the united states have been treated with convalescent plasma. Some states see positive changes new york and new jersey were early hotspots of the coronavirus pandemic but both reported encouraging signs this week. New jersey gov. Phil murphy tweeted saturday afternoon that the state saw its lowest number of coronavirus-related hospitalizations since march 24. \"it\\'s incredible what we\\'ve achieved by pulling together as one new jersey family, but we\\'re not over the finish line yet. Keep it up,\" he posted. And new york gov. Andrew cuomo\\'s office reported in a news release saturday that the infection rate in the state stayed below 1% for 15 straight days, setting a new record low. For the first time in two months, the number of coronavirus-related hospitalizations in mississippi dropped below 1,000, according to gov. Tate reeves. Meanwhile, other states are reaching troubling milestones. California\\'s death toll is nearing 12,000, the california department of public health said saturday. With 95 deaths reported saturday, georgia broke 5,000 coronavirus deaths. Concerns and questions around the new school year the start of a new school year with in-person classes has brought trepidation to some americans as more young people suffer infections. In florida, a 6-year-old girl became the youngest person in the state to die from coronavirus complications. Health officials say they still don\\'t know if the child contracted the virus from a known case or if it was travel related. Many schools across the country have implemented increased measures to protect students and staff against the virus, even though researchers are still learning how the virus spreads among young children. For older students, universities have responded to rising numbers with more preventative measures. On sunday, georgia tech reported 33 new cases of covid-19, including 17 members of a greek organization. This brings the total number of coronavirus cases at george tech to 251. The university of miami reported four students in its hecht residential college had tested positive for covid-19, officials said on the university\\'s covid-19 website. Those students, and several others \"who have shown symptoms,\" were immediately removed from their floors and are in isolation, officials said. At florida atlantic university in boca raton, students began moving into campus dorms on a staggered schedule with designated hours to promote social distancing. \"i think it\\'s everywhere. I don\\'t think there\\'s any hiding from it. I think just protecting yourself is the best thing you can do,\" kari thronson, the parent of a college freshman, said. Many colleges have already reversed plans for in-person classes and returned to remote learning after coronavirus cases were detected on campus, leading to quarantines. Towson university in baltimore county, maryland, is temporarily moving to online classes after 55 people tested positive for covid-19 on campus over two days last week, the university said saturday. At east carolina university, interim chancellor ron mitchelson said in a letter sunday that the university is moving to online classes due to a \"rapid acceleration\" of cases and \"multiple clusters. \" the move comes two weeks after students returned to campus. The university of notre dame in indiana announced tuesday that undergraduates would be learning remotely for the next two weeks after a spike in covid-19 cases since students returned to campus on august 3. Since august 3, more than 408 students have tested positive, according to notre dame\\'s online health dashboard. Cnn\\'s melissa alonso, jennifer henderson, sheena jones, elizabeth joseph and ganesh setty contributed to this report.'\n",
            " ...\n",
            " 'End-life crisis marked by extravagant spending spree Ever since his retirement nearly a decade ago, area resident oscar subitzky just hasn\\'t been the same. What began as a single, uncharacteristic extravagancethe payment of $15,000 for a coronary angioplasty to expand his narrowing arterial wallhas given way to a growing number of personal luxuries, from the latest brand-name heart medications to the most advanced palliative care. The unusual developments have led concerned family members to suspect that the once prudent and conservative 74-year-old widower is undergoing an acute end-life crisis. \"sure, the operation seemed a little indulgent at first, but we could tell it was really important to dad, so we didn\\'t try to stop him from having it,\" said daughter martha welsch, 46, who can still remember when her father didn\\'t need \"pricey doodads\" like defibrillators and cardiopulmonary-resuscitation devices to be content. \"we all thought this was going to be a one-time thing, that it was just something dad had to get out of his system, and then things would go back to normal,\" she said. \"unfortunately, one surgery quickly became two surgeries, which soon turned into three surgeries,\" welsch added. \"that\\'s when we realized the whole thing was a lot more serious than dad just wanting to get a clogged artery cleared. \" subitzky\\'s end-life crisis began when he suddenly left a secure job as an accountant at the age of 65. Welsch admitted she didn\\'t quite understand what had come over subitzky until he announced six months after his retirement that he had started seeing a cardiologist nearly half his age. \"you hear those stories about men in their late 60s all of a sudden coming home with an expensive new pacemaker or deciding to get work done on their kidneys out of the blue, but dad just never seemed like the type,\" welsch said. \"if he honestly thinks that spending thousands of dollars on blood transfusions is going to change the way he feels inside, i\\'m afraid he\\'s got another think coming. \" lately, welsch said, between \"all those fancy new breathing tubes he now wears,\" and the company of a new live-in nurse only a few years older than some of his grandchildren, she sometimes doesn\\'t recognize her father. \"what\\'s he going to do next, gallivant off to some $10,000-a-day, all-inclusive hospice?\" she wondered. In addition to throwing money around \"like there\\'s no tomorrow,\" as welsch puts it, subitzky has also reportedly grown obsessed with his appearance, examining his body for lumps, bruises, or signs of congested veins dozens of times a day. According to son patrick subitzky, 39, who admits to being a little embarrassed by his father\\'s newfound vanity, the older man\\'s obsession with his looks has also resulted in a \"ridiculous new diet\" of only dark-green leafy vegetables, fruits high in citric acid, whole-grain cereals, and absolutely no meat or dairy products. \"i love him and everything, but i don\\'t know who my father thinks he is anymore,\" said subitzky, who cringes every time his elderly father speeds around town in that \"loud and flashy\" ambulance. \"he\\'s even talking about a trip to denver to see some heart specialist there. Whatever happened to the oscar subitzky who hated to travel?\" according to psychologist elizabeth schulz, who specializes in mortality-identity issues, an end-life crisis is an emotional state of fear and anxiety that often affects men and women between the ages of 65 and 100, and is usually sparked by the uncomfortable realization that one\\'s time on earth is limited. \"individuals in the middle of an end-life crisis are usually easy to spot, as they tend to foolishly acquire big-ticket items such as liver transplants to compensate for feelings of growing inadequacy,\" said schulz, who in the past several years has observed increasing numbers of clients suffering from the common disorder wheeling themselves into her office. \"while these shortsighted material purchases will often work at first, leaving the individual feeling rejuvenated and even energized, in the long term they have very little effect. \"'\n",
            " 'More people are registering republican than democrat in florida. liberals are worried according to florida state data on voter registration in the month of december, 29 percent of new voters registered as democrats, 34 percent registered as republicans, and 37 percent registered as npa – for a total of 50,733 total voter registrations in florida. Total state voter registrations show 37 percent are democrats, 35 percent are republicans and 28 percent are npas. This is a huge boost for republicans, and bucks a trend in many other places that have more democrats registering to vote than republicans. It also almost ensures that president trump will maintain his support in the sunshine state. And a poll released this week also backs that up. The poll has him crushing every democrat front runner in a hypothetical election. The poll shows head to head races with each democratic opponent and donald trump, with trump winning in each lineup. The same poll also showed that a large bulk of the sunshine state are completely behind the president in the impeachment trials. Also good news for republicans, governor desantis has an incredible 68% approval rating, with only 18% disapproving of him. For impeachment, 52% strongly disapprove of the president being removed from office, and only 43% approve. “floridians are confident in governor desantis and, while they’re concerned about healthcare costs and workforce quality, support his efforts to help keep florida moving in the right direction and champion solutions,” said mark wilson, president and ceo, florida chamber of commerce. These are all of the results from the florida poll: governor desantis approve/disapprove:68% approve18% disapprove14% unsure florida right/wrong direction:63% right direction24% wrong track13% not sure after impeachment, should president trump be removed from office?total voters: 52% disapprove, 43% approvedemocrats: 73% approve, 20% disapprovenpa’s: 50% approve, 46% disapproverepublicans: 87% disapprove, 9% approve what issues should the legislature address?healthcare costs 18%jobs/economy 12%environment 9%education 9%immigration 6% what’s keeping job creators up at night? florida chamber’s small business index surveyworkforce quality 28%healthcare costs 13%government regulations 12%economic uncertainty 10% presidential head-to-heads                            head-to-head                  dem               rep                npa trump/biden            49/45                          16/78              88/7                41/51 trump/warren          50/43                          17/75              90/7                41/50 trump/bloomberg    49/44                          16/75              87/8                40/53 trump/buttigieg        50/43                          19/72              87/9                40/51 about the poll: about this poll:  the florida chamber of commerce political poll was conducted on january 3-12, 2020 by cherry communications during live telephone interviews of likely voters, and has a margin of error of +/- 4 percent. The sample size included 247 democrats, 241 republicans and 120 others for a total of 608 respondents statewide. The samples for the polls conducted by the florida chamber are consistently drawn from likely voters and newly registered voters, meaning those voters who have the propensity and past performance of voting in elections, rather than simply including registered voters. Voters are again screened for likelihood of voting. Watch also the full rally president trump held in florida to kickstart his reelection bid. See also:'\n",
            " 'Excited patient points out organ he wants from kidney tank in hospital lobby Exuberantly tapping the glass of the murky case as he tried to attract the attention of hospital staff, transplant patient robert mccarthy appeared to be barely able to contain his excitement tuesday while gesturing to the organ he wanted in the surgical wing lobby’s fresh kidney tank. “i want that one, the big one in the corner,” said mccarthy, 46, motioning toward a lively and perfectly bean-shaped renal organ, which medical personnel estimated to be a sprightly 15 years old. “wow, would you look at the nephrons on that guy? just one of him ought to be plenty for meno wonder they say you don’t really need two. Honestly, any of them would probably be great, except maybe that greyish one bobbing at the top. ” mccarthy was then helped into a gaily kidney-patterned surgical bib while a doctor used a sterile net and tongs to scoop out his preferred organ.']\n"
          ]
        }
      ]
    },
    {
      "cell_type": "code",
      "source": [
        "print(Y)"
      ],
      "metadata": {
        "colab": {
          "base_uri": "https://localhost:8080/"
        },
        "id": "RO4EUFJIgiun",
        "outputId": "336dd77d-c571-48a4-b5fb-9138a7778658"
      },
      "execution_count": null,
      "outputs": [
        {
          "output_type": "stream",
          "name": "stdout",
          "text": [
            "[1 1 1 ... 0 0 0]\n"
          ]
        }
      ]
    },
    {
      "cell_type": "code",
      "source": [
        "Y.shape"
      ],
      "metadata": {
        "colab": {
          "base_uri": "https://localhost:8080/"
        },
        "id": "-IYbxNB5gknM",
        "outputId": "0192a122-ac1d-40e0-8f0e-05855379e182"
      },
      "execution_count": null,
      "outputs": [
        {
          "output_type": "execute_result",
          "data": {
            "text/plain": [
              "(10254,)"
            ]
          },
          "metadata": {},
          "execution_count": 51
        }
      ]
    },
    {
      "cell_type": "code",
      "source": [
        "# converting the textual data to numerical data\n",
        "vectorizer = TfidfVectorizer()\n",
        "vectorizer.fit(X)\n",
        "\n",
        "X = vectorizer.transform(X)"
      ],
      "metadata": {
        "id": "A0cg6tMQgm55"
      },
      "execution_count": null,
      "outputs": []
    },
    {
      "cell_type": "code",
      "source": [
        "print(X)"
      ],
      "metadata": {
        "colab": {
          "base_uri": "https://localhost:8080/"
        },
        "id": "dLdPsh64gr5L",
        "outputId": "edad95d5-7a7b-4b94-f1de-a7fc7b5637b1"
      },
      "execution_count": null,
      "outputs": [
        {
          "output_type": "stream",
          "name": "stdout",
          "text": [
            "  (0, 94999)\t0.0805817031146481\n",
            "  (0, 94970)\t0.1748788168393942\n",
            "  (0, 94838)\t0.014941473035052772\n",
            "  (0, 94828)\t0.026176302485790358\n",
            "  (0, 94785)\t0.02315727966470167\n",
            "  (0, 94717)\t0.012980548653858916\n",
            "  (0, 94687)\t0.022113448143825872\n",
            "  (0, 94332)\t0.017466124393296388\n",
            "  (0, 94315)\t0.02537037475197131\n",
            "  (0, 94299)\t0.02472452954815491\n",
            "  (0, 94200)\t0.02276422508388292\n",
            "  (0, 94197)\t0.02938746658037994\n",
            "  (0, 94155)\t0.021983939859587954\n",
            "  (0, 94054)\t0.01922979444916671\n",
            "  (0, 94036)\t0.012691656241142307\n",
            "  (0, 93910)\t0.02159916637306125\n",
            "  (0, 93755)\t0.016775933784176352\n",
            "  (0, 93729)\t0.04243474006096005\n",
            "  (0, 93284)\t0.015133643508909554\n",
            "  (0, 93235)\t0.042475306231581245\n",
            "  (0, 93099)\t0.03764772412033096\n",
            "  (0, 93082)\t0.04878130998807524\n",
            "  (0, 93078)\t0.0498076691481274\n",
            "  (0, 93036)\t0.020343998385065808\n",
            "  (0, 92893)\t0.019962832843945188\n",
            "  :\t:\n",
            "  (10253, 30633)\t0.10064147166957964\n",
            "  (10253, 30631)\t0.08173256561084306\n",
            "  (10253, 30601)\t0.07404929809593104\n",
            "  (10253, 30174)\t0.06378982884297757\n",
            "  (10253, 26568)\t0.033901794300505314\n",
            "  (10253, 26347)\t0.0560062218178715\n",
            "  (10253, 20744)\t0.07992112548661162\n",
            "  (10253, 20266)\t0.06733114218886929\n",
            "  (10253, 15794)\t0.0411896050873692\n",
            "  (10253, 12271)\t0.13947488256652452\n",
            "  (10253, 11272)\t0.04321178483061653\n",
            "  (10253, 11189)\t0.14400911209901432\n",
            "  (10253, 10158)\t0.10880490306372759\n",
            "  (10253, 10117)\t0.08205061395281875\n",
            "  (10253, 9664)\t0.08056453121416143\n",
            "  (10253, 8336)\t0.08938477646225437\n",
            "  (10253, 8301)\t0.05795921103145549\n",
            "  (10253, 8151)\t0.04115021469467444\n",
            "  (10253, 7630)\t0.020269374924881615\n",
            "  (10253, 6895)\t0.06482646706596444\n",
            "  (10253, 6718)\t0.03270463531599765\n",
            "  (10253, 6071)\t0.0338073038321423\n",
            "  (10253, 3023)\t0.043299738471956645\n",
            "  (10253, 1779)\t0.07514114502521997\n",
            "  (10253, 433)\t0.04712402409841194\n"
          ]
        }
      ]
    },
    {
      "cell_type": "code",
      "source": [
        "X_train, X_test, Y_train, Y_test = train_test_split(X, Y, test_size = 0.2, stratify=Y, random_state=2)"
      ],
      "metadata": {
        "id": "MbFZgcJwgtsR"
      },
      "execution_count": null,
      "outputs": []
    },
    {
      "cell_type": "code",
      "source": [
        "model = LogisticRegression()"
      ],
      "metadata": {
        "id": "57uPNUifg0AI"
      },
      "execution_count": null,
      "outputs": []
    },
    {
      "cell_type": "code",
      "source": [
        "model.fit(X_train, Y_train)"
      ],
      "metadata": {
        "colab": {
          "base_uri": "https://localhost:8080/",
          "height": 75
        },
        "id": "_sdgBe9Fg2Ge",
        "outputId": "51f75ecf-dd51-48d8-99b1-e62c0b444e93"
      },
      "execution_count": null,
      "outputs": [
        {
          "output_type": "execute_result",
          "data": {
            "text/plain": [
              "LogisticRegression()"
            ],
            "text/html": [
              "<style>#sk-container-id-2 {color: black;background-color: white;}#sk-container-id-2 pre{padding: 0;}#sk-container-id-2 div.sk-toggleable {background-color: white;}#sk-container-id-2 label.sk-toggleable__label {cursor: pointer;display: block;width: 100%;margin-bottom: 0;padding: 0.3em;box-sizing: border-box;text-align: center;}#sk-container-id-2 label.sk-toggleable__label-arrow:before {content: \"▸\";float: left;margin-right: 0.25em;color: #696969;}#sk-container-id-2 label.sk-toggleable__label-arrow:hover:before {color: black;}#sk-container-id-2 div.sk-estimator:hover label.sk-toggleable__label-arrow:before {color: black;}#sk-container-id-2 div.sk-toggleable__content {max-height: 0;max-width: 0;overflow: hidden;text-align: left;background-color: #f0f8ff;}#sk-container-id-2 div.sk-toggleable__content pre {margin: 0.2em;color: black;border-radius: 0.25em;background-color: #f0f8ff;}#sk-container-id-2 input.sk-toggleable__control:checked~div.sk-toggleable__content {max-height: 200px;max-width: 100%;overflow: auto;}#sk-container-id-2 input.sk-toggleable__control:checked~label.sk-toggleable__label-arrow:before {content: \"▾\";}#sk-container-id-2 div.sk-estimator input.sk-toggleable__control:checked~label.sk-toggleable__label {background-color: #d4ebff;}#sk-container-id-2 div.sk-label input.sk-toggleable__control:checked~label.sk-toggleable__label {background-color: #d4ebff;}#sk-container-id-2 input.sk-hidden--visually {border: 0;clip: rect(1px 1px 1px 1px);clip: rect(1px, 1px, 1px, 1px);height: 1px;margin: -1px;overflow: hidden;padding: 0;position: absolute;width: 1px;}#sk-container-id-2 div.sk-estimator {font-family: monospace;background-color: #f0f8ff;border: 1px dotted black;border-radius: 0.25em;box-sizing: border-box;margin-bottom: 0.5em;}#sk-container-id-2 div.sk-estimator:hover {background-color: #d4ebff;}#sk-container-id-2 div.sk-parallel-item::after {content: \"\";width: 100%;border-bottom: 1px solid gray;flex-grow: 1;}#sk-container-id-2 div.sk-label:hover label.sk-toggleable__label {background-color: #d4ebff;}#sk-container-id-2 div.sk-serial::before {content: \"\";position: absolute;border-left: 1px solid gray;box-sizing: border-box;top: 0;bottom: 0;left: 50%;z-index: 0;}#sk-container-id-2 div.sk-serial {display: flex;flex-direction: column;align-items: center;background-color: white;padding-right: 0.2em;padding-left: 0.2em;position: relative;}#sk-container-id-2 div.sk-item {position: relative;z-index: 1;}#sk-container-id-2 div.sk-parallel {display: flex;align-items: stretch;justify-content: center;background-color: white;position: relative;}#sk-container-id-2 div.sk-item::before, #sk-container-id-2 div.sk-parallel-item::before {content: \"\";position: absolute;border-left: 1px solid gray;box-sizing: border-box;top: 0;bottom: 0;left: 50%;z-index: -1;}#sk-container-id-2 div.sk-parallel-item {display: flex;flex-direction: column;z-index: 1;position: relative;background-color: white;}#sk-container-id-2 div.sk-parallel-item:first-child::after {align-self: flex-end;width: 50%;}#sk-container-id-2 div.sk-parallel-item:last-child::after {align-self: flex-start;width: 50%;}#sk-container-id-2 div.sk-parallel-item:only-child::after {width: 0;}#sk-container-id-2 div.sk-dashed-wrapped {border: 1px dashed gray;margin: 0 0.4em 0.5em 0.4em;box-sizing: border-box;padding-bottom: 0.4em;background-color: white;}#sk-container-id-2 div.sk-label label {font-family: monospace;font-weight: bold;display: inline-block;line-height: 1.2em;}#sk-container-id-2 div.sk-label-container {text-align: center;}#sk-container-id-2 div.sk-container {/* jupyter's `normalize.less` sets `[hidden] { display: none; }` but bootstrap.min.css set `[hidden] { display: none !important; }` so we also need the `!important` here to be able to override the default hidden behavior on the sphinx rendered scikit-learn.org. See: https://github.com/scikit-learn/scikit-learn/issues/21755 */display: inline-block !important;position: relative;}#sk-container-id-2 div.sk-text-repr-fallback {display: none;}</style><div id=\"sk-container-id-2\" class=\"sk-top-container\"><div class=\"sk-text-repr-fallback\"><pre>LogisticRegression()</pre><b>In a Jupyter environment, please rerun this cell to show the HTML representation or trust the notebook. <br />On GitHub, the HTML representation is unable to render, please try loading this page with nbviewer.org.</b></div><div class=\"sk-container\" hidden><div class=\"sk-item\"><div class=\"sk-estimator sk-toggleable\"><input class=\"sk-toggleable__control sk-hidden--visually\" id=\"sk-estimator-id-2\" type=\"checkbox\" checked><label for=\"sk-estimator-id-2\" class=\"sk-toggleable__label sk-toggleable__label-arrow\">LogisticRegression</label><div class=\"sk-toggleable__content\"><pre>LogisticRegression()</pre></div></div></div></div></div>"
            ]
          },
          "metadata": {},
          "execution_count": 56
        }
      ]
    },
    {
      "cell_type": "code",
      "source": [
        "# accuracy score on the training data\n",
        "X_train_prediction = model.predict(X_train)\n",
        "training_data_accuracy = accuracy_score(X_train_prediction, Y_train)"
      ],
      "metadata": {
        "id": "rQrrQE7pg42_"
      },
      "execution_count": null,
      "outputs": []
    },
    {
      "cell_type": "code",
      "source": [
        "print('Accuracy score of the training data : ', training_data_accuracy)"
      ],
      "metadata": {
        "colab": {
          "base_uri": "https://localhost:8080/"
        },
        "id": "PGrPRiilg7tf",
        "outputId": "747a4d75-92f8-4e9c-e576-1524b8a183c6"
      },
      "execution_count": null,
      "outputs": [
        {
          "output_type": "stream",
          "name": "stdout",
          "text": [
            "Accuracy score of the training data :  0.9414848226258686\n"
          ]
        }
      ]
    },
    {
      "cell_type": "code",
      "source": [
        "# accuracy score on the test data\n",
        "X_test_prediction = model.predict(X_test)\n",
        "test_data_accuracy = accuracy_score(X_test_prediction, Y_test)"
      ],
      "metadata": {
        "id": "DyQQ3zlRg-vO"
      },
      "execution_count": null,
      "outputs": []
    },
    {
      "cell_type": "code",
      "source": [
        "print('Accuracy score of the test data : ', test_data_accuracy)"
      ],
      "metadata": {
        "colab": {
          "base_uri": "https://localhost:8080/"
        },
        "id": "N4eTc76VhBZu",
        "outputId": "d5a75a3b-ce5d-4d09-b318-a96d545dc38d"
      },
      "execution_count": null,
      "outputs": [
        {
          "output_type": "stream",
          "name": "stdout",
          "text": [
            "Accuracy score of the test data :  0.9000487567040468\n"
          ]
        }
      ]
    },
    {
      "cell_type": "code",
      "source": [
        "X_new = X_test[3]\n",
        "\n",
        "prediction = model.predict(X_new)\n",
        "print(prediction)\n",
        "\n",
        "if (prediction[0]==0):\n",
        "  print('The article is Real')\n",
        "else:\n",
        "  print('The article is Fake')"
      ],
      "metadata": {
        "colab": {
          "base_uri": "https://localhost:8080/"
        },
        "id": "aHtHs8qchDp6",
        "outputId": "b8fb9a04-5abb-44d3-d6c6-1e294884f07d"
      },
      "execution_count": null,
      "outputs": [
        {
          "output_type": "stream",
          "name": "stdout",
          "text": [
            "[1]\n",
            "The article is Fake\n"
          ]
        }
      ]
    },
    {
      "cell_type": "code",
      "source": [
        "print(Y_test[3])"
      ],
      "metadata": {
        "colab": {
          "base_uri": "https://localhost:8080/"
        },
        "id": "un5ON1VghIq5",
        "outputId": "551c2332-d57d-4cd4-8a08-c205ae67c684"
      },
      "execution_count": null,
      "outputs": [
        {
          "output_type": "stream",
          "name": "stdout",
          "text": [
            "1\n"
          ]
        }
      ]
    },
    {
      "cell_type": "code",
      "source": [
        "# Selecting a few more test data points\n",
        "X_new_1 = X_test[10]\n",
        "X_new_2 = X_test[20]\n",
        "X_new_3 = X_test[30]\n",
        "\n",
        "# Making predictions on the new data points\n",
        "prediction_1 = model.predict(X_new_1.reshape(1, -1))\n",
        "prediction_2 = model.predict(X_new_2.reshape(1, -1))\n",
        "prediction_3 = model.predict(X_new_3.reshape(1, -1))\n",
        "\n",
        "# Printing the predictions\n",
        "if prediction_1[0] == 0:\n",
        "    print('The article 1 is Real')\n",
        "else:\n",
        "    print('The article 1 is Fake')\n",
        "\n",
        "if prediction_2[0] == 0:\n",
        "    print('The article 2 is Real')\n",
        "else:\n",
        "    print('The article 2 is Fake')\n",
        "\n",
        "if prediction_3[0] == 0:\n",
        "    print('The article 3 is Real')\n",
        "else:\n",
        "    print('The article 3 is Fake')\n",
        "\n",
        "# Printing the true labels for comparison\n",
        "print(Y_test[10])\n",
        "print(Y_test[20])\n",
        "print(Y_test[30])"
      ],
      "metadata": {
        "colab": {
          "base_uri": "https://localhost:8080/"
        },
        "id": "zeGWk8rZhJzI",
        "outputId": "640fd9f4-ef8f-4016-f473-c96c60e1b975"
      },
      "execution_count": null,
      "outputs": [
        {
          "output_type": "stream",
          "name": "stdout",
          "text": [
            "The article 1 is Fake\n",
            "The article 2 is Real\n",
            "The article 3 is Fake\n",
            "1\n",
            "0\n",
            "1\n"
          ]
        }
      ]
    },
    {
      "cell_type": "code",
      "source": [
        "# User-defined test case\n",
        "test_headline = \"Geriatrician and author louise aronson\"\n",
        "\n",
        "# Preprocess the test headline\n",
        "test_input = stemming(test_headline)\n",
        "test_input_transformed = vectorizer.transform([test_input])\n",
        "\n",
        "# Make prediction\n",
        "prediction = model.predict(test_input_transformed)\n",
        "\n",
        "if prediction[0] == 0:\n",
        "    print(\"The article is Fake\")\n",
        "else:\n",
        "    print(\"The article is Real\")\n"
      ],
      "metadata": {
        "colab": {
          "base_uri": "https://localhost:8080/"
        },
        "id": "QUMvJFQXZgmJ",
        "outputId": "d01d6c85-c305-4f5d-a29b-f71a62b88403"
      },
      "execution_count": null,
      "outputs": [
        {
          "output_type": "stream",
          "name": "stdout",
          "text": [
            "The article is Fake\n"
          ]
        }
      ]
    }
  ],
  "metadata": {
    "colab": {
      "provenance": [],
      "authorship_tag": "ABX9TyOWCnDRHryJibOkaYZk0Khe",
      "include_colab_link": true
    },
    "kernelspec": {
      "display_name": "Python 3",
      "name": "python3"
    },
    "language_info": {
      "name": "python"
    }
  },
  "nbformat": 4,
  "nbformat_minor": 0
}